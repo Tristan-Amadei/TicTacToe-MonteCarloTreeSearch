{
 "cells": [
  {
   "cell_type": "code",
   "execution_count": 3,
   "id": "instructional-flexibility",
   "metadata": {},
   "outputs": [],
   "source": [
    "from enum import Enum\n",
    "from copy import deepcopy\n",
    "from math import log\n",
    "import pickle"
   ]
  },
  {
   "cell_type": "code",
   "execution_count": 4,
   "id": "subsequent-concentrate",
   "metadata": {},
   "outputs": [],
   "source": [
    "def back_to_start_state(board, nb_moves_beginning):\n",
    "    while len(board.moves) > nb_moves_beginning:\n",
    "        board.undo_last_move()"
   ]
  },
  {
   "cell_type": "code",
   "execution_count": 5,
   "id": "japanese-retail",
   "metadata": {},
   "outputs": [],
   "source": [
    "class Node:\n",
    "    \n",
    "    def __init__(self, board):\n",
    "        self.board = board\n",
    "        self.wins = 0\n",
    "        self.draws = 0\n",
    "        self.visits = 0\n",
    "        self.parents = set()\n",
    "        \n",
    "    def add_parent(self, parent):\n",
    "        if isinstance(parent, Board):\n",
    "            parent_representation = parent.get_representation()\n",
    "            self.parents.add(parent_representation)\n",
    "        else:\n",
    "            self.parents.add(parent)\n",
    "            \n",
    "    def update(self, player, winner):\n",
    "        if player == winner:\n",
    "            self.wins += 1\n",
    "        elif winner == 0:\n",
    "            self.draws += 1\n",
    "        \n",
    "        self.visits += 1\n",
    "            \n",
    "    def calculate_parents_visits(self):\n",
    "        total_parents_visits = 0\n",
    "        for parent in self.parents:\n",
    "            total_parents_visits += parent.visits\n",
    "        return total_parents_visits\n",
    "    \n",
    "    def calculate_winrate(self):\n",
    "        if self.visits == 0:\n",
    "            return 0\n",
    "        \n",
    "        return (self.wins + self.draws) / self.visits\n",
    "            \n",
    "    def calculate_uct(self, c):\n",
    "        if self.visits == 0:\n",
    "            return float('inf')\n",
    "        \n",
    "        winrate = (self.wins + self.draws) / self.visits #we count a draw as a win because, under best play, a draw is the best result one can get\n",
    "        \n",
    "        parents_visits = self.calculate_parents_visits()\n",
    "        exploration = c * (log(parents_visits) / self.visits)**(1/2)\n",
    "        \n",
    "        return winrate + exploration"
   ]
  },
  {
   "cell_type": "code",
   "execution_count": 6,
   "id": "driving-dependence",
   "metadata": {},
   "outputs": [],
   "source": [
    "class direction(Enum):\n",
    "    ROW = 1\n",
    "    COL = 2\n",
    "    DIAG_TOP_BOTTOM = 3\n",
    "    DIAG_BOTTOM_TOP = 4\n",
    "\n",
    "class Board:\n",
    "    ##### Players #####\n",
    "    ## 1 = player X\n",
    "    ## -1 = player O\n",
    "\n",
    "    ##### Game State #####\n",
    "    ## 0 and 9 moves played: draw\n",
    "    ## -1: player O wins the game\n",
    "    ## 1: player X wins the game\n",
    "\n",
    "\n",
    "    def __init__(self):\n",
    "        self.grid = [[0, 0, 0], [0, 0, 0], [0, 0, 0]]\n",
    "        self.moves = []\n",
    "        self.gameState = 0\n",
    "        self.winningMove = None\n",
    "        \n",
    "    def copy(self):\n",
    "        board_copy = Board()\n",
    "        board_copy.grid = deepcopy(self.grid)\n",
    "        board_copy.moves = deepcopy(self.moves)\n",
    "        board_copy.gameState = self.gameState    \n",
    "        board_copy.winningMove = self.winningMove    \n",
    "        return board_copy\n",
    "\n",
    "    def display_cell(self, i, j):\n",
    "        if self.grid[i][j] == 0:\n",
    "            print('   ', end = '')\n",
    "        elif self.grid[i][j] == 1:\n",
    "            print(' X ', end = '')\n",
    "        else:\n",
    "            print(' O ', end = '')\n",
    "\n",
    "    def display(self, addSpace=False):\n",
    "        for i in range(3):\n",
    "            for j in range(3):\n",
    "                self.display_cell(i, j)\n",
    "                if j < 2:\n",
    "                    print('|', end='')\n",
    "                else:\n",
    "                    print()\n",
    "            if i < 2:\n",
    "                print('-----------')\n",
    "        if addSpace:\n",
    "            print()\n",
    "\n",
    "    def display_player_name(self, player):\n",
    "        if player == 1:\n",
    "            return \"X\"\n",
    "        return \"O\"\n",
    "\n",
    "    def updateGameState(self, i, j, player):\n",
    "        #i, j stand for the coordinates of the last move played \n",
    "        #player is the player that played the last move\n",
    "        if len(self.moves) == 9 or self.gameState != 0:\n",
    "            pass\n",
    "        else:\n",
    "            #check if the player has won on the row\n",
    "            if self.playerWins_row(i, j, player):\n",
    "                self.gameState = player\n",
    "                self.winningMove = ((i, j), direction.ROW) \n",
    "                return\n",
    "            if self.playerWins_column(i, j, player):\n",
    "                self.gameState = player\n",
    "                self.winningMove = ((i, j), direction.COL) \n",
    "                return\n",
    "            \n",
    "            won_on_diagonal = self.playerWins_diag(player)\n",
    "            if won_on_diagonal[0]:\n",
    "                self.gameState = player\n",
    "                if won_on_diagonal[1] == 1:\n",
    "                    dir = direction.DIAG_TOP_BOTTOM\n",
    "                else:\n",
    "                    dir = direction.DIAG_BOTTOM_TOP\n",
    "                self.winningMove = ((i, j), dir)\n",
    "\n",
    "    def playerWins_row(self, i, j, player):\n",
    "        if j == 0:\n",
    "            return self.grid[i][j+1] == self.grid[i][j+2] == player\n",
    "        if j == 1:\n",
    "            return self.grid[i][j-1] == self.grid[i][j+1] == player\n",
    "        return self.grid[i][j-2] == self.grid[i][j-1] == player\n",
    "\n",
    "    def playerWins_column(self, i, j, player):\n",
    "        if i == 0:\n",
    "            return self.grid[i+1][j] == self.grid[i+2][j] == player\n",
    "        if i == 1:\n",
    "            return self.grid[i-1][j] == self.grid[i+1][j] == player\n",
    "        return self.grid[i-1][j] == self.grid[i-2][j] == player\n",
    "\n",
    "    def playerWins_diag(self, player):\n",
    "        if self.grid[0][0] == self.grid[1][1] == self.grid[2][2] == player:\n",
    "            #diagonal from top right corner to bottom left corner\n",
    "            return (True, 1)\n",
    "        return (self.grid[0][2] == self.grid[1][1] == self.grid[2][0] == player, 2)\n",
    "\n",
    "    def play(self, i, j, player):\n",
    "        if self.gameState != 0 or len(self.moves) >= 9:\n",
    "            text = \"The game is a draw.\" if self.gameState == 0 else f\"Player {self.display_player_name(self.gameState)} has won.\"\n",
    "            raise Exception(text)\n",
    "        elif self.grid[i][j] == 0:\n",
    "            if len(self.moves) != 0 and self.moves[-1][2] == player:\n",
    "                players_turn = 1 if player == -1 else -1\n",
    "                raise Exception(f\"It's player {self.display_player_name(players_turn)}'s turn to play.\")\n",
    "            else:\n",
    "                self.grid[i][j] = player\n",
    "                self.moves.append((i, j, player))\n",
    "                self.updateGameState(i, j, player)\n",
    "        else:\n",
    "            raise Exception(f\"Cell [{i}, {j}] is not empty.\")\n",
    "        \n",
    "    def undo_last_move(self, return_move=False):\n",
    "        if len(self.moves) == 0:\n",
    "            return\n",
    "        \n",
    "        (i, j, player) = self.moves.pop()\n",
    "        self.grid[i][j] = 0\n",
    "        self.gameState = 0 #undoing the last move necessarily makes it so that the game cannot be over\n",
    "        self.winningMove = None\n",
    "        \n",
    "        if return_move:\n",
    "            return (i, j, player)\n",
    "        \n",
    "    def get_square_representation(self, i, j):\n",
    "        if self.grid[i][j] == 0:\n",
    "            return '*'\n",
    "        if self.grid[i][j] == 1:\n",
    "            return 'X'\n",
    "        return 'O'\n",
    "        \n",
    "    def get_representation(self):\n",
    "        representation = ''\n",
    "        for i in range(3):\n",
    "            for j in range(3):\n",
    "                representation += self.get_square_representation(i, j)\n",
    "        return representation\n",
    "    \n",
    "    def isGameOver(self):\n",
    "        return self.gameState != 0 or (self.gameState == 0 and len(self.moves) >= 9)"
   ]
  },
  {
   "cell_type": "code",
   "execution_count": 7,
   "id": "opponent-bristol",
   "metadata": {},
   "outputs": [],
   "source": [
    "def choose_node_uct(board, player, dic_nodes_visited, c):\n",
    "    #dic has the board representation as key and the node as value\n",
    "    \n",
    "    if board.isGameOver():\n",
    "        return None\n",
    "    \n",
    "    nb_moves_beginning = len(board.moves)\n",
    "    best_uct = -float('inf')\n",
    "    best_move = None\n",
    "    for i in range(3):\n",
    "        for j in range(3):\n",
    "            try:\n",
    "                board.play(i, j, player)\n",
    "                \n",
    "                if dic_nodes_visited.get(board.get_representation()) != None: #the node has already been visited and exists in the dictionary\n",
    "                    node = dic_nodes_visited.get(board.get_representation())\n",
    "                    uct = node.calculate_uct(c)\n",
    "                else:\n",
    "                    node = Node(board.copy())\n",
    "                    dic_nodes_visited[node.board.get_representation()] = node\n",
    "                    uct = node.calculate_uct(c)\n",
    "                    \n",
    "                if uct >= best_uct:\n",
    "                    best_uct = uct\n",
    "                    best_move = (i, j, node)\n",
    "                \n",
    "                back_to_start_state(board, nb_moves_beginning)\n",
    "            except:\n",
    "                back_to_start_state(board, nb_moves_beginning)\n",
    "    \n",
    "    back_to_start_state(board, nb_moves_beginning)      \n",
    "    return best_move\n",
    "\n",
    "def choose_node_winrate(board, player, dic_nodes_visited):    \n",
    "    if board.isGameOver():\n",
    "        return None\n",
    "    \n",
    "    nb_moves_beginning = len(board.moves)\n",
    "    best_winrate = -1\n",
    "    best_move = None\n",
    "    for i in range(3):\n",
    "        for j in range(3):\n",
    "            try:\n",
    "                board.play(i, j, player)\n",
    "                \n",
    "                if dic_nodes_visited.get(board.get_representation()) != None: #the node has already been visited and exists in the dictionary\n",
    "                    node = dic_nodes_visited.get(board.get_representation())\n",
    "                    winrate = node.calculate_winrate()\n",
    "                else:\n",
    "                    winrate = 0\n",
    "                    \n",
    "                if winrate >= best_winrate:\n",
    "                    best_winrate = winrate\n",
    "                    best_move = (i, j, node)\n",
    "                \n",
    "                back_to_start_state(board, nb_moves_beginning)\n",
    "            except:\n",
    "                back_to_start_state(board, nb_moves_beginning)\n",
    "    \n",
    "    back_to_start_state(board, nb_moves_beginning)      \n",
    "    return best_move\n",
    "\n",
    "def play_move_in_simulation(board, player, dic_nodes_visited, path, c):\n",
    "    \n",
    "    try:\n",
    "        (i, j, best_node) = choose_node_uct(board, player, dic_nodes_visited, c)\n",
    "        try:\n",
    "            board.play(i, j, player)\n",
    "            path.append((best_node, player))\n",
    "            \n",
    "            try:\n",
    "                parent = dic_nodes_visited[board.get_representation()]\n",
    "            except:\n",
    "                parent = Node(board.copy())\n",
    "                \n",
    "            best_node.add_parent(parent)\n",
    "            \n",
    "        except:\n",
    "            pass\n",
    "    except:\n",
    "        pass\n",
    "    \n",
    "\n",
    "def backpropagation(path, winner):\n",
    "    for i in range(len(path)-1, -1, -1):\n",
    "        node, player = path[i]\n",
    "        node.update(player, winner)\n",
    "            \n",
    "    \n",
    "def make_complete_simulation(board, player, dic_nodes_visited, c):\n",
    "    path = []\n",
    "    \n",
    "    while not board.isGameOver():\n",
    "        play_move_in_simulation(board, player, dic_nodes_visited, path, c)\n",
    "        if player == -1:\n",
    "            player = 1\n",
    "        else:\n",
    "            player = -1\n",
    "    \n",
    "    winner = board.gameState\n",
    "    backpropagation(path, winner)\n",
    " \n",
    "def play_mcts(board, player, nb_simulations, c = 2**(1/2)):\n",
    "    dic_nodes_visited = {}\n",
    "    \n",
    "    for i in range(nb_simulations):\n",
    "        copy_board = board.copy()\n",
    "        make_complete_simulation(copy_board, player, dic_nodes_visited, c)\n",
    "        copy_board = None\n",
    "        #print(f\"Simulation {i} ended -> len(dic) = {len(dic_nodes_visited)}\")\n",
    "        \n",
    "    #print('len dic = ' + str(len(dic_nodes_visited)))\n",
    "    #print('len moves = ' + str(len(board.moves)))\n",
    "    \n",
    "    (i, j, _) = choose_node_winrate(board, player, dic_nodes_visited)\n",
    "    #board.play(i, j, player)\n",
    "    return dic_nodes_visited"
   ]
  },
  {
   "cell_type": "markdown",
   "id": "comic-license",
   "metadata": {},
   "source": [
    "### Test"
   ]
  },
  {
   "cell_type": "code",
   "execution_count": 8,
   "id": "continent-victory",
   "metadata": {
    "scrolled": true
   },
   "outputs": [
    {
     "name": "stdout",
     "output_type": "stream",
     "text": [
      " X |   | O \n",
      "-----------\n",
      "   | O |   \n",
      "-----------\n",
      "   |   | X \n"
     ]
    }
   ],
   "source": [
    "b = Board()\n",
    "b.play(0, 0, 1)\n",
    "b.play(1, 1, -1)\n",
    "b.play(2, 2, 1)\n",
    "b.play(0, 2, -1)\n",
    "b.display()"
   ]
  },
  {
   "cell_type": "code",
   "execution_count": 9,
   "id": "rolled-collector",
   "metadata": {},
   "outputs": [],
   "source": [
    "c = 2**(1/2)"
   ]
  },
  {
   "cell_type": "code",
   "execution_count": 22,
   "id": "interracial-chase",
   "metadata": {},
   "outputs": [],
   "source": [
    "d = play_mcts(b, 1, 100000, c)"
   ]
  },
  {
   "cell_type": "code",
   "execution_count": 23,
   "id": "surrounded-volunteer",
   "metadata": {},
   "outputs": [
    {
     "data": {
      "text/plain": [
       "48"
      ]
     },
     "execution_count": 23,
     "metadata": {},
     "output_type": "execute_result"
    }
   ],
   "source": [
    "len(d)"
   ]
  },
  {
   "cell_type": "code",
   "execution_count": 24,
   "id": "chicken-mills",
   "metadata": {
    "scrolled": true
   },
   "outputs": [],
   "source": [
    "(i, j, node) = choose_node_winrate(b, 1, d)"
   ]
  },
  {
   "cell_type": "code",
   "execution_count": 25,
   "id": "specified-relationship",
   "metadata": {},
   "outputs": [
    {
     "data": {
      "text/plain": [
       "(1, 0)"
      ]
     },
     "execution_count": 25,
     "metadata": {},
     "output_type": "execute_result"
    }
   ],
   "source": [
    "i, j"
   ]
  },
  {
   "cell_type": "code",
   "execution_count": 26,
   "id": "attended-jaguar",
   "metadata": {},
   "outputs": [],
   "source": [
    "nb_0 = 0\n",
    "for key in d:\n",
    "    #print(d[key].visits)\n",
    "    if d[key].visits == 0:\n",
    "        nb_0 += 1"
   ]
  },
  {
   "cell_type": "code",
   "execution_count": 27,
   "id": "collectible-neighborhood",
   "metadata": {},
   "outputs": [
    {
     "data": {
      "text/plain": [
       "22"
      ]
     },
     "execution_count": 27,
     "metadata": {},
     "output_type": "execute_result"
    }
   ],
   "source": [
    "nb_0"
   ]
  },
  {
   "cell_type": "code",
   "execution_count": 42,
   "id": "respective-divide",
   "metadata": {},
   "outputs": [
    {
     "name": "stdout",
     "output_type": "stream",
     "text": [
      " X |   | O \n",
      "-----------\n",
      "   | O |   \n",
      "-----------\n",
      "   |   | X \n"
     ]
    }
   ],
   "source": [
    "b.display()"
   ]
  },
  {
   "cell_type": "code",
   "execution_count": 43,
   "id": "applied-documentary",
   "metadata": {},
   "outputs": [
    {
     "name": "stdout",
     "output_type": "stream",
     "text": [
      "0, 1 -> 1 visits, winrate = 1.0, uct = 1.0\n",
      "nb parents = 1, parents' visits = 1\n",
      " X | X | O \n",
      "-----------\n",
      "   | O |   \n",
      "-----------\n",
      "   |   | X \n",
      "\n",
      "1, 0 -> 1 visits, winrate = 1.0, uct = 1.0\n",
      "nb parents = 1, parents' visits = 1\n",
      " X |   | O \n",
      "-----------\n",
      " X | O |   \n",
      "-----------\n",
      "   |   | X \n",
      "\n",
      "1, 2 -> 1 visits, winrate = 0.0, uct = 0.0\n",
      "nb parents = 1, parents' visits = 1\n",
      " X |   | O \n",
      "-----------\n",
      "   | O | X \n",
      "-----------\n",
      "   |   | X \n",
      "\n",
      "2, 0 -> 99996 visits, winrate = 0.999989999599984, uct = 1.0151645480268796\n",
      "nb parents = 1, parents' visits = 99996\n",
      " X |   | O \n",
      "-----------\n",
      "   | O |   \n",
      "-----------\n",
      " X |   | X \n",
      "\n",
      "2, 1 -> 1 visits, winrate = 0.0, uct = 0.0\n",
      "nb parents = 1, parents' visits = 1\n",
      " X |   | O \n",
      "-----------\n",
      "   | O |   \n",
      "-----------\n",
      "   | X | X \n",
      "\n"
     ]
    }
   ],
   "source": [
    "nodes = []\n",
    "for i in range(3):\n",
    "    for j in range(3):\n",
    "        try:\n",
    "            copy = b.copy()\n",
    "            copy.play(i, j, 1)\n",
    "            node = d[copy.get_representation()]\n",
    "            nodes.append(node)\n",
    "            print(f\"{i}, {j} -> {node.visits} visits, winrate = {node.calculate_winrate()}, uct = {node.calculate_uct(c)}\")\n",
    "            print(f\"nb parents = {len(node.parents)}, parents' visits = {node.calculate_parents_visits()}\")\n",
    "            for parent in node.parents:\n",
    "                parent.board.display()\n",
    "            print()\n",
    "        except:\n",
    "            pass"
   ]
  },
  {
   "cell_type": "code",
   "execution_count": 38,
   "id": "normal-moldova",
   "metadata": {},
   "outputs": [
    {
     "data": {
      "text/plain": [
       "[<__main__.Node at 0x193c8a30df0>,\n",
       " <__main__.Node at 0x193c8a306d0>,\n",
       " <__main__.Node at 0x193c8a30e50>,\n",
       " <__main__.Node at 0x193c9846610>,\n",
       " <__main__.Node at 0x193c9846400>]"
      ]
     },
     "execution_count": 38,
     "metadata": {},
     "output_type": "execute_result"
    }
   ],
   "source": [
    "nodes"
   ]
  },
  {
   "cell_type": "code",
   "execution_count": 40,
   "id": "undefined-prince",
   "metadata": {},
   "outputs": [
    {
     "ename": "AttributeError",
     "evalue": "'Node' object has no attribute 'get_representation'",
     "output_type": "error",
     "traceback": [
      "\u001b[1;31m---------------------------------------------------------------------------\u001b[0m",
      "\u001b[1;31mAttributeError\u001b[0m                            Traceback (most recent call last)",
      "\u001b[1;32m<ipython-input-40-367da9e9aad9>\u001b[0m in \u001b[0;36m<module>\u001b[1;34m\u001b[0m\n\u001b[0;32m      1\u001b[0m \u001b[1;32mfor\u001b[0m \u001b[0mparent\u001b[0m \u001b[1;32min\u001b[0m \u001b[0mnodes\u001b[0m\u001b[1;33m[\u001b[0m\u001b[1;36m0\u001b[0m\u001b[1;33m]\u001b[0m\u001b[1;33m.\u001b[0m\u001b[0mparents\u001b[0m\u001b[1;33m:\u001b[0m\u001b[1;33m\u001b[0m\u001b[1;33m\u001b[0m\u001b[0m\n\u001b[1;32m----> 2\u001b[1;33m     \u001b[0mprint\u001b[0m\u001b[1;33m(\u001b[0m\u001b[0mparent\u001b[0m\u001b[1;33m.\u001b[0m\u001b[0mget_representation\u001b[0m\u001b[1;33m(\u001b[0m\u001b[1;33m)\u001b[0m\u001b[1;33m)\u001b[0m\u001b[1;33m\u001b[0m\u001b[1;33m\u001b[0m\u001b[0m\n\u001b[0m",
      "\u001b[1;31mAttributeError\u001b[0m: 'Node' object has no attribute 'get_representation'"
     ]
    }
   ],
   "source": [
    "for parent in nodes[0].parents:\n",
    "    print(parent.get_representation())"
   ]
  },
  {
   "cell_type": "code",
   "execution_count": null,
   "id": "appreciated-picnic",
   "metadata": {},
   "outputs": [],
   "source": []
  }
 ],
 "metadata": {
  "kernelspec": {
   "display_name": "Python 3",
   "language": "python",
   "name": "python3"
  },
  "language_info": {
   "codemirror_mode": {
    "name": "ipython",
    "version": 3
   },
   "file_extension": ".py",
   "mimetype": "text/x-python",
   "name": "python",
   "nbconvert_exporter": "python",
   "pygments_lexer": "ipython3",
   "version": "3.9.6"
  }
 },
 "nbformat": 4,
 "nbformat_minor": 5
}
